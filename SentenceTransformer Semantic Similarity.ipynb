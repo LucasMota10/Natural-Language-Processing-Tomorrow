{
  "nbformat": 4,
  "nbformat_minor": 0,
  "metadata": {
    "colab": {
      "provenance": []
    },
    "kernelspec": {
      "name": "python3",
      "display_name": "Python 3"
    },
    "language_info": {
      "name": "python"
    }
  },
  "cells": [
    {
      "cell_type": "markdown",
      "source": [
        "\n",
        "\n",
        "## **Código para Classificação de uma pergunta factual do tipo \"Qual Artigo...\" que classifica a pergunta em relação a 1 dos 130 artigo do CDC**\n",
        "\n",
        "\n",
        "\n",
        "* O código utiliza o SentenceTransformer (uma variante do BERT otimizada para medir a similaridade entre sentenças)\n",
        "* É necessário carregar o "dados_cdc.csv" contendo os artigos do CDC, ele foi anexado junto com esse colab no GitHub\n",
        "\n",
        "  **Aluno: Lucas Barbosa Bulcão Mota**\n",
        "\n",
        "\n",
        "\n"
      ],
      "metadata": {
        "id": "FL1oKLUEq6Ps"
      }
    },
    {
      "cell_type": "code",
      "source": [
        "!pip install pandas sentence-transformers"
      ],
      "metadata": {
        "collapsed": true,
        "id": "biZi37AZ5Ke6",
        "colab": {
          "base_uri": "https://localhost:8080/"
        },
        "outputId": "bb46d871-f109-4aac-d173-457ddfae9657"
      },
      "execution_count": null,
      "outputs": [
        {
          "output_type": "stream",
          "name": "stdout",
          "text": [
            "Requirement already satisfied: pandas in /usr/local/lib/python3.10/dist-packages (2.1.4)\n",
            "Collecting sentence-transformers\n",
            "  Downloading sentence_transformers-3.0.1-py3-none-any.whl.metadata (10 kB)\n",
            "Requirement already satisfied: numpy<2,>=1.22.4 in /usr/local/lib/python3.10/dist-packages (from pandas) (1.26.4)\n",
            "Requirement already satisfied: python-dateutil>=2.8.2 in /usr/local/lib/python3.10/dist-packages (from pandas) (2.8.2)\n",
            "Requirement already satisfied: pytz>=2020.1 in /usr/local/lib/python3.10/dist-packages (from pandas) (2024.1)\n",
            "Requirement already satisfied: tzdata>=2022.1 in /usr/local/lib/python3.10/dist-packages (from pandas) (2024.1)\n",
            "Requirement already satisfied: transformers<5.0.0,>=4.34.0 in /usr/local/lib/python3.10/dist-packages (from sentence-transformers) (4.42.4)\n",
            "Requirement already satisfied: tqdm in /usr/local/lib/python3.10/dist-packages (from sentence-transformers) (4.66.5)\n",
            "Requirement already satisfied: torch>=1.11.0 in /usr/local/lib/python3.10/dist-packages (from sentence-transformers) (2.3.1+cu121)\n",
            "Requirement already satisfied: scikit-learn in /usr/local/lib/python3.10/dist-packages (from sentence-transformers) (1.3.2)\n",
            "Requirement already satisfied: scipy in /usr/local/lib/python3.10/dist-packages (from sentence-transformers) (1.13.1)\n",
            "Requirement already satisfied: huggingface-hub>=0.15.1 in /usr/local/lib/python3.10/dist-packages (from sentence-transformers) (0.23.5)\n",
            "Requirement already satisfied: Pillow in /usr/local/lib/python3.10/dist-packages (from sentence-transformers) (9.4.0)\n",
            "Requirement already satisfied: filelock in /usr/local/lib/python3.10/dist-packages (from huggingface-hub>=0.15.1->sentence-transformers) (3.15.4)\n",
            "Requirement already satisfied: fsspec>=2023.5.0 in /usr/local/lib/python3.10/dist-packages (from huggingface-hub>=0.15.1->sentence-transformers) (2024.6.1)\n",
            "Requirement already satisfied: packaging>=20.9 in /usr/local/lib/python3.10/dist-packages (from huggingface-hub>=0.15.1->sentence-transformers) (24.1)\n",
            "Requirement already satisfied: pyyaml>=5.1 in /usr/local/lib/python3.10/dist-packages (from huggingface-hub>=0.15.1->sentence-transformers) (6.0.2)\n",
            "Requirement already satisfied: requests in /usr/local/lib/python3.10/dist-packages (from huggingface-hub>=0.15.1->sentence-transformers) (2.32.3)\n",
            "Requirement already satisfied: typing-extensions>=3.7.4.3 in /usr/local/lib/python3.10/dist-packages (from huggingface-hub>=0.15.1->sentence-transformers) (4.12.2)\n",
            "Requirement already satisfied: six>=1.5 in /usr/local/lib/python3.10/dist-packages (from python-dateutil>=2.8.2->pandas) (1.16.0)\n",
            "Requirement already satisfied: sympy in /usr/local/lib/python3.10/dist-packages (from torch>=1.11.0->sentence-transformers) (1.13.1)\n",
            "Requirement already satisfied: networkx in /usr/local/lib/python3.10/dist-packages (from torch>=1.11.0->sentence-transformers) (3.3)\n",
            "Requirement already satisfied: jinja2 in /usr/local/lib/python3.10/dist-packages (from torch>=1.11.0->sentence-transformers) (3.1.4)\n",
            "Collecting nvidia-cuda-nvrtc-cu12==12.1.105 (from torch>=1.11.0->sentence-transformers)\n",
            "  Using cached nvidia_cuda_nvrtc_cu12-12.1.105-py3-none-manylinux1_x86_64.whl.metadata (1.5 kB)\n",
            "Collecting nvidia-cuda-runtime-cu12==12.1.105 (from torch>=1.11.0->sentence-transformers)\n",
            "  Using cached nvidia_cuda_runtime_cu12-12.1.105-py3-none-manylinux1_x86_64.whl.metadata (1.5 kB)\n",
            "Collecting nvidia-cuda-cupti-cu12==12.1.105 (from torch>=1.11.0->sentence-transformers)\n",
            "  Using cached nvidia_cuda_cupti_cu12-12.1.105-py3-none-manylinux1_x86_64.whl.metadata (1.6 kB)\n",
            "Collecting nvidia-cudnn-cu12==8.9.2.26 (from torch>=1.11.0->sentence-transformers)\n",
            "  Using cached nvidia_cudnn_cu12-8.9.2.26-py3-none-manylinux1_x86_64.whl.metadata (1.6 kB)\n",
            "Collecting nvidia-cublas-cu12==12.1.3.1 (from torch>=1.11.0->sentence-transformers)\n",
            "  Using cached nvidia_cublas_cu12-12.1.3.1-py3-none-manylinux1_x86_64.whl.metadata (1.5 kB)\n",
            "Collecting nvidia-cufft-cu12==11.0.2.54 (from torch>=1.11.0->sentence-transformers)\n",
            "  Using cached nvidia_cufft_cu12-11.0.2.54-py3-none-manylinux1_x86_64.whl.metadata (1.5 kB)\n",
            "Collecting nvidia-curand-cu12==10.3.2.106 (from torch>=1.11.0->sentence-transformers)\n",
            "  Using cached nvidia_curand_cu12-10.3.2.106-py3-none-manylinux1_x86_64.whl.metadata (1.5 kB)\n",
            "Collecting nvidia-cusolver-cu12==11.4.5.107 (from torch>=1.11.0->sentence-transformers)\n",
            "  Using cached nvidia_cusolver_cu12-11.4.5.107-py3-none-manylinux1_x86_64.whl.metadata (1.6 kB)\n",
            "Collecting nvidia-cusparse-cu12==12.1.0.106 (from torch>=1.11.0->sentence-transformers)\n",
            "  Using cached nvidia_cusparse_cu12-12.1.0.106-py3-none-manylinux1_x86_64.whl.metadata (1.6 kB)\n",
            "Collecting nvidia-nccl-cu12==2.20.5 (from torch>=1.11.0->sentence-transformers)\n",
            "  Using cached nvidia_nccl_cu12-2.20.5-py3-none-manylinux2014_x86_64.whl.metadata (1.8 kB)\n",
            "Collecting nvidia-nvtx-cu12==12.1.105 (from torch>=1.11.0->sentence-transformers)\n",
            "  Using cached nvidia_nvtx_cu12-12.1.105-py3-none-manylinux1_x86_64.whl.metadata (1.7 kB)\n",
            "Requirement already satisfied: triton==2.3.1 in /usr/local/lib/python3.10/dist-packages (from torch>=1.11.0->sentence-transformers) (2.3.1)\n",
            "Collecting nvidia-nvjitlink-cu12 (from nvidia-cusolver-cu12==11.4.5.107->torch>=1.11.0->sentence-transformers)\n",
            "  Using cached nvidia_nvjitlink_cu12-12.6.20-py3-none-manylinux2014_x86_64.whl.metadata (1.5 kB)\n",
            "Requirement already satisfied: regex!=2019.12.17 in /usr/local/lib/python3.10/dist-packages (from transformers<5.0.0,>=4.34.0->sentence-transformers) (2024.5.15)\n",
            "Requirement already satisfied: safetensors>=0.4.1 in /usr/local/lib/python3.10/dist-packages (from transformers<5.0.0,>=4.34.0->sentence-transformers) (0.4.4)\n",
            "Requirement already satisfied: tokenizers<0.20,>=0.19 in /usr/local/lib/python3.10/dist-packages (from transformers<5.0.0,>=4.34.0->sentence-transformers) (0.19.1)\n",
            "Requirement already satisfied: joblib>=1.1.1 in /usr/local/lib/python3.10/dist-packages (from scikit-learn->sentence-transformers) (1.4.2)\n",
            "Requirement already satisfied: threadpoolctl>=2.0.0 in /usr/local/lib/python3.10/dist-packages (from scikit-learn->sentence-transformers) (3.5.0)\n",
            "Requirement already satisfied: MarkupSafe>=2.0 in /usr/local/lib/python3.10/dist-packages (from jinja2->torch>=1.11.0->sentence-transformers) (2.1.5)\n",
            "Requirement already satisfied: charset-normalizer<4,>=2 in /usr/local/lib/python3.10/dist-packages (from requests->huggingface-hub>=0.15.1->sentence-transformers) (3.3.2)\n",
            "Requirement already satisfied: idna<4,>=2.5 in /usr/local/lib/python3.10/dist-packages (from requests->huggingface-hub>=0.15.1->sentence-transformers) (3.7)\n",
            "Requirement already satisfied: urllib3<3,>=1.21.1 in /usr/local/lib/python3.10/dist-packages (from requests->huggingface-hub>=0.15.1->sentence-transformers) (2.0.7)\n",
            "Requirement already satisfied: certifi>=2017.4.17 in /usr/local/lib/python3.10/dist-packages (from requests->huggingface-hub>=0.15.1->sentence-transformers) (2024.7.4)\n",
            "Requirement already satisfied: mpmath<1.4,>=1.1.0 in /usr/local/lib/python3.10/dist-packages (from sympy->torch>=1.11.0->sentence-transformers) (1.3.0)\n",
            "Downloading sentence_transformers-3.0.1-py3-none-any.whl (227 kB)\n",
            "\u001b[2K   \u001b[90m━━━━━━━━━━━━━━━━━━━━━━━━━━━━━━━━━━━━━━━━\u001b[0m \u001b[32m227.1/227.1 kB\u001b[0m \u001b[31m3.6 MB/s\u001b[0m eta \u001b[36m0:00:00\u001b[0m\n",
            "\u001b[?25hUsing cached nvidia_cublas_cu12-12.1.3.1-py3-none-manylinux1_x86_64.whl (410.6 MB)\n",
            "Using cached nvidia_cuda_cupti_cu12-12.1.105-py3-none-manylinux1_x86_64.whl (14.1 MB)\n",
            "Using cached nvidia_cuda_nvrtc_cu12-12.1.105-py3-none-manylinux1_x86_64.whl (23.7 MB)\n",
            "Using cached nvidia_cuda_runtime_cu12-12.1.105-py3-none-manylinux1_x86_64.whl (823 kB)\n",
            "Using cached nvidia_cudnn_cu12-8.9.2.26-py3-none-manylinux1_x86_64.whl (731.7 MB)\n",
            "Using cached nvidia_cufft_cu12-11.0.2.54-py3-none-manylinux1_x86_64.whl (121.6 MB)\n",
            "Using cached nvidia_curand_cu12-10.3.2.106-py3-none-manylinux1_x86_64.whl (56.5 MB)\n",
            "Using cached nvidia_cusolver_cu12-11.4.5.107-py3-none-manylinux1_x86_64.whl (124.2 MB)\n",
            "Using cached nvidia_cusparse_cu12-12.1.0.106-py3-none-manylinux1_x86_64.whl (196.0 MB)\n",
            "Using cached nvidia_nccl_cu12-2.20.5-py3-none-manylinux2014_x86_64.whl (176.2 MB)\n",
            "Using cached nvidia_nvtx_cu12-12.1.105-py3-none-manylinux1_x86_64.whl (99 kB)\n",
            "Using cached nvidia_nvjitlink_cu12-12.6.20-py3-none-manylinux2014_x86_64.whl (19.7 MB)\n",
            "Installing collected packages: nvidia-nvtx-cu12, nvidia-nvjitlink-cu12, nvidia-nccl-cu12, nvidia-curand-cu12, nvidia-cufft-cu12, nvidia-cuda-runtime-cu12, nvidia-cuda-nvrtc-cu12, nvidia-cuda-cupti-cu12, nvidia-cublas-cu12, nvidia-cusparse-cu12, nvidia-cudnn-cu12, nvidia-cusolver-cu12, sentence-transformers\n",
            "Successfully installed nvidia-cublas-cu12-12.1.3.1 nvidia-cuda-cupti-cu12-12.1.105 nvidia-cuda-nvrtc-cu12-12.1.105 nvidia-cuda-runtime-cu12-12.1.105 nvidia-cudnn-cu12-8.9.2.26 nvidia-cufft-cu12-11.0.2.54 nvidia-curand-cu12-10.3.2.106 nvidia-cusolver-cu12-11.4.5.107 nvidia-cusparse-cu12-12.1.0.106 nvidia-nccl-cu12-2.20.5 nvidia-nvjitlink-cu12-12.6.20 nvidia-nvtx-cu12-12.1.105 sentence-transformers-3.0.1\n"
          ]
        }
      ]
    },
    {
      "cell_type": "code",
      "source": [
        "import pandas as pd\n",
        "import numpy as np\n",
        "from sentence_transformers import SentenceTransformer, util"
      ],
      "metadata": {
        "id": "MHrBwL2mpW31",
        "colab": {
          "base_uri": "https://localhost:8080/"
        },
        "outputId": "531f192b-79b7-4c2f-c049-265f572d7220"
      },
      "execution_count": null,
      "outputs": [
        {
          "output_type": "stream",
          "name": "stderr",
          "text": [
            "/usr/local/lib/python3.10/dist-packages/sentence_transformers/cross_encoder/CrossEncoder.py:11: TqdmExperimentalWarning: Using `tqdm.autonotebook.tqdm` in notebook mode. Use `tqdm.tqdm` instead to force console mode (e.g. in jupyter console)\n",
            "  from tqdm.autonotebook import tqdm, trange\n"
          ]
        }
      ]
    },
    {
      "cell_type": "code",
      "source": [
        "# Carregar o modelo Sentence-BERT\n",
        "model_name = 'rufimelo/Legal-BERTimbau-sts-large' # stjiris/bert-large-portuguese-cased-legal-mlm-sts-v1.0 | rufimelo/Legal-BERTimbau-sts-large-ma-v3\n",
        "model = SentenceTransformer(model_name)"
      ],
      "metadata": {
        "id": "SKKhmTKypYnF",
        "colab": {
          "base_uri": "https://localhost:8080/",
          "referenced_widgets": [
            "f1f5c457076a46c086a91211f309d14e",
            "df0ac09e8903449295fb7055b8cf5234",
            "62a6720f4f274d08917a27a0b5997868",
            "ce197531b793417aad025f6b929dae8d",
            "f18e900511ff4b37977b9084e5e04129",
            "405e88cbfe9942d19a96a4ad118c9ce2",
            "b9832dc45ae24156a276c11f6a7bb8bb",
            "cb4fb0a7ae86425c890d589e51c2f492",
            "283696644a37441abf7ba9ffdea305a1",
            "a73315888d094cf99418aa865f3b474e",
            "8da5c1de381a4c23b5e610987a599b15"
          ]
        },
        "outputId": "385ef614-bc14-4890-a2fa-031b42de59c8"
      },
      "execution_count": null,
      "outputs": [
        {
          "output_type": "stream",
          "name": "stderr",
          "text": [
            "/usr/local/lib/python3.10/dist-packages/huggingface_hub/utils/_token.py:89: UserWarning: \n",
            "The secret `HF_TOKEN` does not exist in your Colab secrets.\n",
            "To authenticate with the Hugging Face Hub, create a token in your settings tab (https://huggingface.co/settings/tokens), set it as secret in your Google Colab and restart your session.\n",
            "You will be able to reuse this secret in all of your notebooks.\n",
            "Please note that authentication is recommended but still optional to access public models or datasets.\n",
            "  warnings.warn(\n"
          ]
        },
        {
          "output_type": "display_data",
          "data": {
            "text/plain": [
              "modules.json:   0%|          | 0.00/229 [00:00<?, ?B/s]"
            ],
            "application/vnd.jupyter.widget-view+json": {
              "version_major": 2,
              "version_minor": 0,
              "model_id": "f1f5c457076a46c086a91211f309d14e"
            }
          },
          "metadata": {}
        },
        {
          "output_type": "display_data",
          "data": {
            "text/plain": [
              "config_sentence_transformers.json:   0%|          | 0.00/124 [00:00<?, ?B/s]"
            ],
            "application/vnd.jupyter.widget-view+json": {
              "version_major": 2,
              "version_minor": 0,
              "model_id": "df0ac09e8903449295fb7055b8cf5234"
            }
          },
          "metadata": {}
        },
        {
          "output_type": "display_data",
          "data": {
            "text/plain": [
              "README.md:   0%|          | 0.00/6.80k [00:00<?, ?B/s]"
            ],
            "application/vnd.jupyter.widget-view+json": {
              "version_major": 2,
              "version_minor": 0,
              "model_id": "62a6720f4f274d08917a27a0b5997868"
            }
          },
          "metadata": {}
        },
        {
          "output_type": "display_data",
          "data": {
            "text/plain": [
              "sentence_bert_config.json:   0%|          | 0.00/52.0 [00:00<?, ?B/s]"
            ],
            "application/vnd.jupyter.widget-view+json": {
              "version_major": 2,
              "version_minor": 0,
              "model_id": "ce197531b793417aad025f6b929dae8d"
            }
          },
          "metadata": {}
        },
        {
          "output_type": "display_data",
          "data": {
            "text/plain": [
              "config.json:   0%|          | 0.00/833 [00:00<?, ?B/s]"
            ],
            "application/vnd.jupyter.widget-view+json": {
              "version_major": 2,
              "version_minor": 0,
              "model_id": "f18e900511ff4b37977b9084e5e04129"
            }
          },
          "metadata": {}
        },
        {
          "output_type": "display_data",
          "data": {
            "text/plain": [
              "pytorch_model.bin:   0%|          | 0.00/1.34G [00:00<?, ?B/s]"
            ],
            "application/vnd.jupyter.widget-view+json": {
              "version_major": 2,
              "version_minor": 0,
              "model_id": "405e88cbfe9942d19a96a4ad118c9ce2"
            }
          },
          "metadata": {}
        },
        {
          "output_type": "display_data",
          "data": {
            "text/plain": [
              "tokenizer_config.json:   0%|          | 0.00/542 [00:00<?, ?B/s]"
            ],
            "application/vnd.jupyter.widget-view+json": {
              "version_major": 2,
              "version_minor": 0,
              "model_id": "b9832dc45ae24156a276c11f6a7bb8bb"
            }
          },
          "metadata": {}
        },
        {
          "output_type": "display_data",
          "data": {
            "text/plain": [
              "vocab.txt:   0%|          | 0.00/210k [00:00<?, ?B/s]"
            ],
            "application/vnd.jupyter.widget-view+json": {
              "version_major": 2,
              "version_minor": 0,
              "model_id": "cb4fb0a7ae86425c890d589e51c2f492"
            }
          },
          "metadata": {}
        },
        {
          "output_type": "display_data",
          "data": {
            "text/plain": [
              "tokenizer.json:   0%|          | 0.00/678k [00:00<?, ?B/s]"
            ],
            "application/vnd.jupyter.widget-view+json": {
              "version_major": 2,
              "version_minor": 0,
              "model_id": "283696644a37441abf7ba9ffdea305a1"
            }
          },
          "metadata": {}
        },
        {
          "output_type": "display_data",
          "data": {
            "text/plain": [
              "special_tokens_map.json:   0%|          | 0.00/125 [00:00<?, ?B/s]"
            ],
            "application/vnd.jupyter.widget-view+json": {
              "version_major": 2,
              "version_minor": 0,
              "model_id": "a73315888d094cf99418aa865f3b474e"
            }
          },
          "metadata": {}
        },
        {
          "output_type": "stream",
          "name": "stderr",
          "text": [
            "Invalid model-index. Not loading eval results into CardData.\n",
            "WARNING:huggingface_hub.repocard_data:Invalid model-index. Not loading eval results into CardData.\n"
          ]
        },
        {
          "output_type": "display_data",
          "data": {
            "text/plain": [
              "1_Pooling/config.json:   0%|          | 0.00/191 [00:00<?, ?B/s]"
            ],
            "application/vnd.jupyter.widget-view+json": {
              "version_major": 2,
              "version_minor": 0,
              "model_id": "8da5c1de381a4c23b5e610987a599b15"
            }
          },
          "metadata": {}
        },
        {
          "output_type": "stream",
          "name": "stderr",
          "text": [
            "Invalid model-index. Not loading eval results into CardData.\n",
            "WARNING:huggingface_hub.repocard_data:Invalid model-index. Not loading eval results into CardData.\n"
          ]
        }
      ]
    },
    {
      "cell_type": "code",
      "source": [
        "# Carregar o CSV (O Arquivo do CSV foi enviado junto com esse colab no classroom, é necessário baixa-lo e importar na aba arquivos)\n",
        "df = pd.read_csv('dados_cdc.csv')"
      ],
      "metadata": {
        "id": "wreI_oiYpZ0O"
      },
      "execution_count": null,
      "outputs": []
    },
    {
      "cell_type": "code",
      "source": [
        "# Função para gerar embeddings usando Sentence-BERT\n",
        "def get_embedding(text, model):\n",
        "    return model.encode(text, convert_to_tensor=True)"
      ],
      "metadata": {
        "id": "0eqLCBb5pcwn"
      },
      "execution_count": null,
      "outputs": []
    },
    {
      "cell_type": "code",
      "source": [
        "# Gerar embeddings para as descrições dos artigos\n",
        "df['embedding'] = df['Artigos_corpus'].apply(lambda x: get_embedding(x, model))"
      ],
      "metadata": {
        "id": "GHoKWrIypfnj"
      },
      "execution_count": null,
      "outputs": []
    },
    {
      "cell_type": "code",
      "source": [
        "# Perguntas do usuário\n",
        "pergunta_usuario = [\"Qual é o artigo que trata sobre a obrigatoriedade de informações claras e precisas na oferta e apresentação de produtos?\",\n",
        "                    \"Qual artigo define os direitos do consumidor em relação a produtos com defeito ou vícios de qualidade?\",\n",
        "                    \"Qual artigo especifica o prazo para reclamar de vícios aparentes ou de fácil constatação em produtos duráveis?\",\n",
        "                    \"Qual artigo aborda a responsabilidade do fornecedor em caso de recusa ao cumprimento da oferta ou publicidade?\",\n",
        "                    \"Qual artigo regula a repetição do indébito em casos de cobrança indevida ao consumidor?\",\n",
        "                    \"Qual artigo determina a obrigatoriedade de peças de reposição enquanto o produto estiver em fabricação ou importação?\",\n",
        "                    \"Qual artigo descreve a garantia legal de adequação do produto ou serviço independente de termo expresso?\",\n",
        "                    \"Qual artigo especifica o direito de desistência do contrato em compras fora do estabelecimento comercial?\",\n",
        "                    \"Qual artigo define a nulidade de cláusulas abusivas em contratos de adesão?\",\n",
        "                    \"Qual artigo estabelece a responsabilidade dos fornecedores pela qualidade e segurança dos produtos e serviços?\"]"
      ],
      "metadata": {
        "id": "EH_Ms_riphLz"
      },
      "execution_count": null,
      "outputs": []
    },
    {
      "cell_type": "code",
      "source": [
        "def classificação(pergunta):\n",
        "  # Gerar embedding para a pergunta do usuário\n",
        "  pergunta_usuario_embedding = get_embedding(pergunta, model)\n",
        "  # Calcular similaridade de cosseno para cada artigo\n",
        "  df['similarity'] = df['embedding'].apply(lambda x: util.pytorch_cos_sim(x, pergunta_usuario_embedding).item())\n",
        "\n",
        "  # Encontrar o índice do artigo mais similar\n",
        "  most_similar_index = df['similarity'].idxmax()\n",
        "\n",
        "  # Exibir o artigo correspondente\n",
        "  artigo_correspondente = df.iloc[most_similar_index]\n",
        "\n",
        "  print(f\"Pergunta: {pergunta}\")\n",
        "  print(f\"Número do artigo correspondente: {artigo_correspondente['Artigo']}\")\n",
        "  print(f\"Descrição do artigo correspondente: {artigo_correspondente['Artigos_corpus']}\")\n",
        "  print(\"-----------------------------------------------------------------------------\")\n",
        "  del df['similarity']"
      ],
      "metadata": {
        "id": "lbA5BTh0mu7U"
      },
      "execution_count": null,
      "outputs": []
    },
    {
      "cell_type": "code",
      "source": [
        "for pergunta in pergunta_usuario:\n",
        "  classificação(pergunta)"
      ],
      "metadata": {
        "colab": {
          "base_uri": "https://localhost:8080/"
        },
        "id": "ERCshdaKm1T1",
        "outputId": "d7714fda-c78f-432d-f763-7fa27c6ff2e1"
      },
      "execution_count": null,
      "outputs": [
        {
          "output_type": "stream",
          "name": "stdout",
          "text": [
            "Pergunta: Qual é o artigo que trata sobre a obrigatoriedade de informações claras e precisas na oferta e apresentação de produtos?\n",
            "Número do artigo correspondente: Art 31\n",
            "Descrição do artigo correspondente: A oferta e apresentação de produtos ou serviços devem assegurar informações corretas, claras, precisas, ostensivas e em língua portuguesa sobre suas características, qualidades, quantidade, composição, preço, garantia, prazos de validade e origem, entre outros dados, bem como sobre os riscos que apresentam à saúde e segurança dos consumidores. Parágrafo único. As informações de que trata este artigo, nos produtos refrigerados oferecidos ao consumidor, serão gravadas de forma indelével. (Incluído pela Lei nº 11.989, de 2009)\n",
            "-----------------------------------------------------------------------------\n",
            "Pergunta: Qual artigo define os direitos do consumidor em relação a produtos com defeito ou vícios de qualidade?\n",
            "Número do artigo correspondente: Art 20\n",
            "Descrição do artigo correspondente: O fornecedor de serviços responde pelos vícios de qualidade que os tornem impróprios ao consumo ou lhes diminuam o valor, assim como por aqueles decorrentes da disparidade com as indicações constantes da oferta ou mensagem publicitária, podendo o consumidor exigir, alternativamente e à sua escolha: I - a reexecução dos serviços, sem custo adicional e quando cabível; II - a restituição imediata da quantia paga, monetariamente atualizada, sem prejuízo de eventuais perdas e danos; III - o abatimento proporcional do preço. § 1° A reexecução dos serviços poderá ser confiada a terceiros devidamente capacitados, por conta e risco do fornecedor. § 2° São impróprios os serviços que se mostrem inadequados para os fins que razoavelmente deles se esperam, bem como aqueles que não atendam as normas regulamentares de prestabilidade.\n",
            "-----------------------------------------------------------------------------\n",
            "Pergunta: Qual artigo especifica o prazo para reclamar de vícios aparentes ou de fácil constatação em produtos duráveis?\n",
            "Número do artigo correspondente: Art 26\n",
            "Descrição do artigo correspondente: O direito de reclamar pelos vícios aparentes ou de fácil constatação caduca em: I - trinta dias, tratando-se de fornecimento de serviço e de produtos não duráveis; II - noventa dias, tratando-se de fornecimento de serviço e de produtos duráveis. § 1° Inicia-se a contagem do prazo decadencial a partir da entrega efetiva do produto ou do término da execução dos serviços. § 2° Obstam a decadência: I - a reclamação comprovadamente formulada pelo consumidor perante o fornecedor de produtos e serviços até a resposta negativa correspondente, que deve ser transmitida de forma inequívoca; II - (Vetado). III - a instauração de inquérito civil, até seu encerramento. § 3° Tratando-se de vício oculto, o prazo decadencial inicia-se no momento em que ficar evidenciado o defeito.\n",
            "-----------------------------------------------------------------------------\n",
            "Pergunta: Qual artigo aborda a responsabilidade do fornecedor em caso de recusa ao cumprimento da oferta ou publicidade?\n",
            "Número do artigo correspondente: Art 35\n",
            "Descrição do artigo correspondente: Se o fornecedor de produtos ou serviços recusar cumprimento à oferta, apresentação ou publicidade, o consumidor poderá, alternativamente e à sua livre escolha: I - exigir o cumprimento forçado da obrigação, nos termos da oferta, apresentação ou publicidade; II - aceitar outro produto ou prestação de serviço equivalente; III - rescindir o contrato, com direito à restituição de quantia eventualmente antecipada, monetariamente atualizada, e a perdas e danos.\n",
            "-----------------------------------------------------------------------------\n",
            "Pergunta: Qual artigo regula a repetição do indébito em casos de cobrança indevida ao consumidor?\n",
            "Número do artigo correspondente: Art 42\n",
            "Descrição do artigo correspondente: Na cobrança de débitos, o consumidor inadimplente não será exposto a ridículo, nem será submetido a qualquer tipo de constrangimento ou ameaça. Parágrafo único. O consumidor cobrado em quantia indevida tem direito à repetição do indébito, por valor igual ao dobro do que pagou em excesso, acrescido de correção monetária e juros legais, salvo hipótese de engano justificável.\n",
            "-----------------------------------------------------------------------------\n",
            "Pergunta: Qual artigo determina a obrigatoriedade de peças de reposição enquanto o produto estiver em fabricação ou importação?\n",
            "Número do artigo correspondente: Art 21\n",
            "Descrição do artigo correspondente: No fornecimento de serviços que tenham por objetivo a reparação de qualquer produto considerar-se-á implícita a obrigação do fornecedor de empregar componentes de reposição originais adequados e novos, ou que mantenham as especificações técnicas do fabricante, salvo, quanto a estes últimos, autorização em contrário do consumidor.\n",
            "-----------------------------------------------------------------------------\n",
            "Pergunta: Qual artigo descreve a garantia legal de adequação do produto ou serviço independente de termo expresso?\n",
            "Número do artigo correspondente: Art 50\n",
            "Descrição do artigo correspondente: A garantia contratual é complementar à legal e será conferida mediante termo escrito. Parágrafo único. O termo de garantia ou equivalente deve ser padronizado e esclarecer, de maneira adequada em que consiste a mesma garantia, bem como a forma, o prazo e o lugar em que pode ser exercitada e os ônus a cargo do consumidor, devendo ser-lhe entregue, devidamente preenchido pelo fornecedor, no ato do fornecimento, acompanhado de manual de instrução, de instalação e uso do produto em linguagem didática, com ilustrações.\n",
            "-----------------------------------------------------------------------------\n",
            "Pergunta: Qual artigo especifica o direito de desistência do contrato em compras fora do estabelecimento comercial?\n",
            "Número do artigo correspondente: Art 49\n",
            "Descrição do artigo correspondente: O consumidor pode desistir do contrato, no prazo de 7 dias a contar de sua assinatura ou do ato de recebimento do produto ou serviço, sempre que a contratação de fornecimento de produtos e serviços ocorrer fora do estabelecimento comercial, especialmente por telefone ou a domicílio. Parágrafo único. Se o consumidor exercitar o direito de arrependimento previsto neste artigo, os valores eventualmente pagos, a qualquer título, durante o prazo de reflexão, serão devolvidos, de imediato, monetariamente atualizados.\n",
            "-----------------------------------------------------------------------------\n",
            "Pergunta: Qual artigo define a nulidade de cláusulas abusivas em contratos de adesão?\n",
            "Número do artigo correspondente: Art 51\n",
            "Descrição do artigo correspondente: São nulas de pleno direito, entre outras, as cláusulas contratuais relativas ao fornecimento de produtos e serviços que: I - impossibilitem, exonerem ou atenuem a responsabilidade do fornecedor por vícios de qualquer natureza dos produtos e serviços ou impliquem renúncia ou disposição de direitos. Nas relações de consumo entre o fornecedor e o consumidor pessoa jurídica, a indenização poderá ser limitada, em situações justificáveis; II - subtraiam ao consumidor a opção de reembolso da quantia já paga, nos casos previstos neste código; III - transfiram responsabilidades a terceiros; IV - estabeleçam obrigações consideradas iníquas, abusivas, que coloquem o consumidor em desvantagem exagerada, ou sejam incompatíveis com a boa-fé ou a eqüidade; V - (Vetado); VI - estabeleçam inversão do ônus da prova em prejuízo do consumidor; VII - determinem a utilização compulsória de arbitragem; VIII - imponham representante para concluir ou realizar outro negócio jurídico pelo consumidor; IX - deixem ao fornecedor a opção de concluir ou não o contrato, embora obrigando o consumidor; X - permitam ao fornecedor, direta ou indiretamente, variação do preço de maneira unilateral; XI - autorizem o fornecedor a cancelar o contrato unilateralmente, sem que igual direito seja conferido ao consumidor; XII - obriguem o consumidor a ressarcir os custos de cobrança de sua obrigação, sem que igual direito lhe seja conferido contra o fornecedor; XIII - autorizem o fornecedor a modificar unilateralmente o conteúdo ou a qualidade do contrato, após sua celebração; XIV - infrinjam ou possibilitem a violação de normas ambientais; XV - estejam em desacordo com o sistema de proteção ao consumidor; XVI - possibilitem a renúncia do direito de indenização por benfeitorias necessárias. XVII - condicionem ou limitem de qualquer forma o acesso aos órgãos do Poder Judiciário; (Incluído pela Lei nº 14.181, de 2021) XVIII - estabeleçam prazos de carência em caso de impontualidade das prestações mensais ou impeçam o restabelecimento integral dos direitos do consumidor e de seus meios de pagamento a partir da purgação da mora ou do acordo com os credores; (Incluído pela Lei nº 14.181, de 2021) XIX - (VETADO). (Incluído pela Lei nº 14.181, de 2021) § 1º Presume-se exagerada, entre outros casos, a vantagem que: I - ofende os princípios fundamentais do sistema jurídico a que pertence; II - restringe direitos ou obrigações fundamentais inerentes à natureza do contrato, de tal modo a ameaçar seu objeto ou equilíbrio contratual; III - se mostra excessivamente onerosa para o consumidor, considerando-se a natureza e conteúdo do contrato, o interesse das partes e outras circunstâncias peculiares ao caso. § 2° A nulidade de uma cláusula contratual abusiva não invalida o contrato, exceto quando de sua ausência, apesar dos esforços de integração, decorrer ônus excessivo a qualquer das partes. § 3° (Vetado). § 4° É facultado a qualquer consumidor ou entidade que o represente requerer ao Ministério Público que ajuíze a competente ação para ser declarada a nulidade de cláusula contratual que contrarie o disposto neste código ou de qualquer forma não assegure o justo equilíbrio entre direitos e obrigações das partes.\n",
            "-----------------------------------------------------------------------------\n",
            "Pergunta: Qual artigo estabelece a responsabilidade dos fornecedores pela qualidade e segurança dos produtos e serviços?\n",
            "Número do artigo correspondente: Art 34\n",
            "Descrição do artigo correspondente: O fornecedor do produto ou serviço é solidariamente responsável pelos atos de seus prepostos ou representantes autônomos.\n",
            "-----------------------------------------------------------------------------\n"
          ]
        }
      ]
    },
    {
      "cell_type": "markdown",
      "source": [
        "\n",
        "## GABARITO:\n",
        "\n",
        "1.   Correto | Artigo 31\n",
        "2.   Errado | Artigo 18\n",
        "3.   Correto | Artigo 26\n",
        "4.   Correto | Artigo 35\n",
        "5.   Correto | Artigo 42\n",
        "6.   Errado | Artigo 32\n",
        "7.   Errado | Artigo 24\n",
        "8.   Correto | Artigo 49\n",
        "9.   Correto | Artigo 51\n",
        "10.   Errado | Artigo 20\n",
        "\n",
        "O modelo classificou corretamente 6 das 10 perguntas\n",
        "\n"
      ],
      "metadata": {
        "id": "cUmPpCjvq202"
      }
    }
  ]
}
